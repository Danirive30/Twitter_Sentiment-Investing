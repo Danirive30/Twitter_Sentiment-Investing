{
 "cells": [
  {
   "cell_type": "markdown",
   "metadata": {},
   "source": [
    "# Twitter Sentiment Investing Strategy"
   ]
  },
  {
   "cell_type": "markdown",
   "metadata": {},
   "source": [
    "### **1. Load Twitter Sentiment Data**\n",
    "\n",
    "* Load the twitter sentiment dataset, set the index, calculat engagement ratio and filter out stocks with no significant twitter activity."
   ]
  },
  {
   "cell_type": "code",
   "execution_count": 1,
   "metadata": {},
   "outputs": [
    {
     "data": {
      "application/vnd.microsoft.datawrangler.viewer.v0+json": {
       "columns": [
        {
         "name": "('date', 'symbol')",
         "rawType": "object",
         "type": "unknown"
        },
        {
         "name": "twitterPosts",
         "rawType": "float64",
         "type": "float"
        },
        {
         "name": "twitterComments",
         "rawType": "float64",
         "type": "float"
        },
        {
         "name": "twitterLikes",
         "rawType": "float64",
         "type": "float"
        },
        {
         "name": "twitterImpressions",
         "rawType": "float64",
         "type": "float"
        },
        {
         "name": "twitterSentiment",
         "rawType": "float64",
         "type": "float"
        },
        {
         "name": "engagement_ratio",
         "rawType": "float64",
         "type": "float"
        }
       ],
       "conversionMethod": "pd.DataFrame",
       "ref": "a0e6f24f-a640-4cc4-b54d-dcfe09f36d7e",
       "rows": [
        [
         "(Timestamp('2021-11-18 00:00:00'), 'AAPL')",
         "811.0",
         "2592.0",
         "21674.0",
         "7981808.0",
         null,
         "0.11959029251637907"
        ],
        [
         "(Timestamp('2021-11-18 00:00:00'), 'AMD')",
         "150.0",
         "675.0",
         "2949.0",
         "1645270.0",
         null,
         "0.2288911495422177"
        ],
        [
         "(Timestamp('2021-11-18 00:00:00'), 'AMZN')",
         "557.0",
         "1315.0",
         "12969.0",
         "5590695.0",
         null,
         "0.10139563574678079"
        ],
        [
         "(Timestamp('2021-11-18 00:00:00'), 'ATVI')",
         "82.0",
         "36.0",
         "131.0",
         "1310715.0",
         null,
         "0.2748091603053435"
        ],
        [
         "(Timestamp('2021-11-18 00:00:00'), 'BA')",
         "61.0",
         "55.0",
         "342.0",
         "425847.0",
         null,
         "0.1608187134502924"
        ],
        [
         "(Timestamp('2021-11-18 00:00:00'), 'CRM')",
         "25.0",
         "7183.0",
         "29832.0",
         "142826.0",
         null,
         "0.24078171091445427"
        ],
        [
         "(Timestamp('2021-11-18 00:00:00'), 'ES')",
         "54.0",
         "308.0",
         "1008.0",
         "157878.0",
         null,
         "0.3055555555555556"
        ],
        [
         "(Timestamp('2021-11-18 00:00:00'), 'F')",
         "171.0",
         "7014.0",
         "47637.0",
         "709902.0",
         null,
         "0.1472384910888595"
        ],
        [
         "(Timestamp('2021-11-18 00:00:00'), 'GOOG')",
         "49.0",
         "51.0",
         "181.0",
         "160113.0",
         null,
         "0.281767955801105"
        ],
        [
         "(Timestamp('2021-11-18 00:00:00'), 'GOOGL')",
         "102.0",
         "279.0",
         "1704.0",
         "848252.0",
         null,
         "0.1637323943661972"
        ],
        [
         "(Timestamp('2021-11-18 00:00:00'), 'JPM')",
         "27.0",
         "17.0",
         "155.0",
         "752743.0",
         null,
         "0.10967741935483871"
        ],
        [
         "(Timestamp('2021-11-18 00:00:00'), 'META')",
         "94.0",
         "178.0",
         "1066.0",
         "590535.0",
         null,
         "0.1669793621013133"
        ],
        [
         "(Timestamp('2021-11-18 00:00:00'), 'MNST')",
         "32.0",
         "23.0",
         "84.0",
         "147992.0",
         null,
         "0.27380952380952384"
        ],
        [
         "(Timestamp('2021-11-18 00:00:00'), 'MSFT')",
         "69.0",
         "538.0",
         "1824.0",
         "325190.0",
         null,
         "0.2949561403508772"
        ],
        [
         "(Timestamp('2021-11-18 00:00:00'), 'NFLX')",
         "38.0",
         "201.0",
         "1093.0",
         "120409.0",
         null,
         "0.1838975297346752"
        ],
        [
         "(Timestamp('2021-11-18 00:00:00'), 'NKE')",
         "108.0",
         "365.0",
         "2109.0",
         "1350557.0",
         null,
         "0.173067804646752"
        ],
        [
         "(Timestamp('2021-11-18 00:00:00'), 'NVDA')",
         "304.0",
         "1375.0",
         "13896.0",
         "1481784.0",
         null,
         "0.09894933793897524"
        ],
        [
         "(Timestamp('2021-11-18 00:00:00'), 'PFE')",
         "61.0",
         "111.0",
         "516.0",
         "379761.0",
         null,
         "0.21511627906976744"
        ],
        [
         "(Timestamp('2021-11-18 00:00:00'), 'TSLA')",
         "933.0",
         "27741.0",
         "234301.0",
         "3225410.0",
         null,
         "0.11839898250540971"
        ],
        [
         "(Timestamp('2021-11-19 00:00:00'), 'AAPL')",
         "2379.0",
         "22985.0",
         "157720.0",
         "13544431.0",
         null,
         "0.1457329444585341"
        ],
        [
         "(Timestamp('2021-11-19 00:00:00'), 'ABBV')",
         "56.0",
         "894.0",
         "5618.0",
         "399935.0",
         null,
         "0.1591313634745461"
        ],
        [
         "(Timestamp('2021-11-19 00:00:00'), 'ABT')",
         "84.0",
         "18.0",
         "43.0",
         "105289.0",
         null,
         "0.4186046511627907"
        ],
        [
         "(Timestamp('2021-11-19 00:00:00'), 'AMD')",
         "394.0",
         "1611.0",
         "7820.0",
         "2459120.0",
         null,
         "0.20601023017902814"
        ],
        [
         "(Timestamp('2021-11-19 00:00:00'), 'AMZN')",
         "1530.0",
         "4281.0",
         "28530.0",
         "9974686.0",
         null,
         "0.15005257623554152"
        ],
        [
         "(Timestamp('2021-11-19 00:00:00'), 'ATVI')",
         "180.0",
         "121.0",
         "830.0",
         "1043031.0",
         null,
         "0.14578313253012049"
        ],
        [
         "(Timestamp('2021-11-19 00:00:00'), 'BA')",
         "619.0",
         "173.0",
         "777.0",
         "3584212.0",
         null,
         "0.22265122265122264"
        ],
        [
         "(Timestamp('2021-11-19 00:00:00'), 'C')",
         "100.0",
         "439.0",
         "1678.0",
         "533102.0",
         null,
         "0.26162097735399287"
        ],
        [
         "(Timestamp('2021-11-19 00:00:00'), 'CMG')",
         "47.0",
         "82.0",
         "259.0",
         "347387.0",
         null,
         "0.3166023166023166"
        ],
        [
         "(Timestamp('2021-11-19 00:00:00'), 'CRM')",
         "158.0",
         "12680.0",
         "58315.0",
         "536291.0",
         null,
         "0.21743976678384636"
        ],
        [
         "(Timestamp('2021-11-19 00:00:00'), 'DIS')",
         "364.0",
         "82.0",
         "532.0",
         "3124967.0",
         null,
         "0.15413533834586465"
        ],
        [
         "(Timestamp('2021-11-19 00:00:00'), 'EA')",
         "62.0",
         "24.0",
         "118.0",
         "155321.0",
         null,
         "0.2033898305084746"
        ],
        [
         "(Timestamp('2021-11-19 00:00:00'), 'EBAY')",
         "99.0",
         "37.0",
         "88.0",
         "222664.0",
         null,
         "0.42045454545454547"
        ],
        [
         "(Timestamp('2021-11-19 00:00:00'), 'ES')",
         "367.0",
         "575.0",
         "4361.0",
         "1259741.0",
         null,
         "0.13185049300619123"
        ],
        [
         "(Timestamp('2021-11-19 00:00:00'), 'F')",
         "825.0",
         "23127.0",
         "168966.0",
         "4676580.0",
         null,
         "0.13687369056496573"
        ],
        [
         "(Timestamp('2021-11-19 00:00:00'), 'FCX')",
         "133.0",
         "370.0",
         "797.0",
         "343193.0",
         null,
         "0.4642409033877039"
        ],
        [
         "(Timestamp('2021-11-19 00:00:00'), 'GOOG')",
         "346.0",
         "2842.0",
         "34681.0",
         "1597064.0",
         null,
         "0.08194688734465558"
        ],
        [
         "(Timestamp('2021-11-19 00:00:00'), 'GOOGL')",
         "549.0",
         "3149.0",
         "23800.0",
         "2620365.0",
         null,
         "0.1323109243697479"
        ],
        [
         "(Timestamp('2021-11-19 00:00:00'), 'GS')",
         "117.0",
         "177.0",
         "528.0",
         "595705.0",
         null,
         "0.3352272727272727"
        ],
        [
         "(Timestamp('2021-11-19 00:00:00'), 'JPM')",
         "206.0",
         "4989.0",
         "7627.0",
         "1400781.0",
         null,
         "0.6541235085879114"
        ],
        [
         "(Timestamp('2021-11-19 00:00:00'), 'K')",
         "35.0",
         "2544.0",
         "9231.0",
         "107007.0",
         null,
         "0.2755931101722457"
        ],
        [
         "(Timestamp('2021-11-19 00:00:00'), 'KEY')",
         "156.0",
         "181.0",
         "654.0",
         "1156417.0",
         null,
         "0.27675840978593275"
        ],
        [
         "(Timestamp('2021-11-19 00:00:00'), 'KO')",
         "47.0",
         "28.0",
         "176.0",
         "250494.0",
         null,
         "0.1590909090909091"
        ],
        [
         "(Timestamp('2021-11-19 00:00:00'), 'MA')",
         "121.0",
         "78.0",
         "823.0",
         "569920.0",
         null,
         "0.09477521263669501"
        ],
        [
         "(Timestamp('2021-11-19 00:00:00'), 'META')",
         "748.0",
         "1258.0",
         "5522.0",
         "5658879.0",
         null,
         "0.2278160086925027"
        ],
        [
         "(Timestamp('2021-11-19 00:00:00'), 'MNST')",
         "172.0",
         "768.0",
         "633.0",
         "1624378.0",
         null,
         "1.2132701421800949"
        ],
        [
         "(Timestamp('2021-11-19 00:00:00'), 'MO')",
         "47.0",
         "253.0",
         "931.0",
         "166212.0",
         null,
         "0.27175080558539205"
        ],
        [
         "(Timestamp('2021-11-19 00:00:00'), 'MSFT')",
         "363.0",
         "207.0",
         "2572.0",
         "2969615.0",
         null,
         "0.08048211508553654"
        ],
        [
         "(Timestamp('2021-11-19 00:00:00'), 'MU')",
         "526.0",
         "219.0",
         "2454.0",
         "3170947.0",
         null,
         "0.08924205378973105"
        ],
        [
         "(Timestamp('2021-11-19 00:00:00'), 'NFLX')",
         "237.0",
         "306.0",
         "2204.0",
         "1170624.0",
         null,
         "0.13883847549909256"
        ],
        [
         "(Timestamp('2021-11-19 00:00:00'), 'NKE')",
         "298.0",
         "837.0",
         "4077.0",
         "3225058.0",
         null,
         "0.2052980132450331"
        ]
       ],
       "shape": {
        "columns": 6,
        "rows": 25375
       }
      },
      "text/html": [
       "<div>\n",
       "<style scoped>\n",
       "    .dataframe tbody tr th:only-of-type {\n",
       "        vertical-align: middle;\n",
       "    }\n",
       "\n",
       "    .dataframe tbody tr th {\n",
       "        vertical-align: top;\n",
       "    }\n",
       "\n",
       "    .dataframe thead th {\n",
       "        text-align: right;\n",
       "    }\n",
       "</style>\n",
       "<table border=\"1\" class=\"dataframe\">\n",
       "  <thead>\n",
       "    <tr style=\"text-align: right;\">\n",
       "      <th></th>\n",
       "      <th></th>\n",
       "      <th>twitterPosts</th>\n",
       "      <th>twitterComments</th>\n",
       "      <th>twitterLikes</th>\n",
       "      <th>twitterImpressions</th>\n",
       "      <th>twitterSentiment</th>\n",
       "      <th>engagement_ratio</th>\n",
       "    </tr>\n",
       "    <tr>\n",
       "      <th>date</th>\n",
       "      <th>symbol</th>\n",
       "      <th></th>\n",
       "      <th></th>\n",
       "      <th></th>\n",
       "      <th></th>\n",
       "      <th></th>\n",
       "      <th></th>\n",
       "    </tr>\n",
       "  </thead>\n",
       "  <tbody>\n",
       "    <tr>\n",
       "      <th rowspan=\"5\" valign=\"top\">2021-11-18</th>\n",
       "      <th>AAPL</th>\n",
       "      <td>811.0</td>\n",
       "      <td>2592.0</td>\n",
       "      <td>21674.0</td>\n",
       "      <td>7981808.0</td>\n",
       "      <td>NaN</td>\n",
       "      <td>0.119590</td>\n",
       "    </tr>\n",
       "    <tr>\n",
       "      <th>AMD</th>\n",
       "      <td>150.0</td>\n",
       "      <td>675.0</td>\n",
       "      <td>2949.0</td>\n",
       "      <td>1645270.0</td>\n",
       "      <td>NaN</td>\n",
       "      <td>0.228891</td>\n",
       "    </tr>\n",
       "    <tr>\n",
       "      <th>AMZN</th>\n",
       "      <td>557.0</td>\n",
       "      <td>1315.0</td>\n",
       "      <td>12969.0</td>\n",
       "      <td>5590695.0</td>\n",
       "      <td>NaN</td>\n",
       "      <td>0.101396</td>\n",
       "    </tr>\n",
       "    <tr>\n",
       "      <th>ATVI</th>\n",
       "      <td>82.0</td>\n",
       "      <td>36.0</td>\n",
       "      <td>131.0</td>\n",
       "      <td>1310715.0</td>\n",
       "      <td>NaN</td>\n",
       "      <td>0.274809</td>\n",
       "    </tr>\n",
       "    <tr>\n",
       "      <th>BA</th>\n",
       "      <td>61.0</td>\n",
       "      <td>55.0</td>\n",
       "      <td>342.0</td>\n",
       "      <td>425847.0</td>\n",
       "      <td>NaN</td>\n",
       "      <td>0.160819</td>\n",
       "    </tr>\n",
       "    <tr>\n",
       "      <th>...</th>\n",
       "      <th>...</th>\n",
       "      <td>...</td>\n",
       "      <td>...</td>\n",
       "      <td>...</td>\n",
       "      <td>...</td>\n",
       "      <td>...</td>\n",
       "      <td>...</td>\n",
       "    </tr>\n",
       "    <tr>\n",
       "      <th rowspan=\"5\" valign=\"top\">2023-01-04</th>\n",
       "      <th>T</th>\n",
       "      <td>184.0</td>\n",
       "      <td>3409.0</td>\n",
       "      <td>14271.0</td>\n",
       "      <td>884935.0</td>\n",
       "      <td>0.590457</td>\n",
       "      <td>0.238876</td>\n",
       "    </tr>\n",
       "    <tr>\n",
       "      <th>TSLA</th>\n",
       "      <td>6767.0</td>\n",
       "      <td>540711.0</td>\n",
       "      <td>3810688.0</td>\n",
       "      <td>55464921.0</td>\n",
       "      <td>0.543057</td>\n",
       "      <td>0.141893</td>\n",
       "    </tr>\n",
       "    <tr>\n",
       "      <th>TSN</th>\n",
       "      <td>35.0</td>\n",
       "      <td>168.0</td>\n",
       "      <td>460.0</td>\n",
       "      <td>57207.0</td>\n",
       "      <td>0.561900</td>\n",
       "      <td>0.365217</td>\n",
       "    </tr>\n",
       "    <tr>\n",
       "      <th>V</th>\n",
       "      <td>132.0</td>\n",
       "      <td>1008.0</td>\n",
       "      <td>5943.0</td>\n",
       "      <td>139835.0</td>\n",
       "      <td>0.567286</td>\n",
       "      <td>0.169611</td>\n",
       "    </tr>\n",
       "    <tr>\n",
       "      <th>XOM</th>\n",
       "      <td>212.0</td>\n",
       "      <td>374.0</td>\n",
       "      <td>2071.0</td>\n",
       "      <td>483389.0</td>\n",
       "      <td>0.588914</td>\n",
       "      <td>0.180589</td>\n",
       "    </tr>\n",
       "  </tbody>\n",
       "</table>\n",
       "<p>25375 rows × 6 columns</p>\n",
       "</div>"
      ],
      "text/plain": [
       "                   twitterPosts  twitterComments  twitterLikes  \\\n",
       "date       symbol                                                \n",
       "2021-11-18 AAPL           811.0           2592.0       21674.0   \n",
       "           AMD            150.0            675.0        2949.0   \n",
       "           AMZN           557.0           1315.0       12969.0   \n",
       "           ATVI            82.0             36.0         131.0   \n",
       "           BA              61.0             55.0         342.0   \n",
       "...                         ...              ...           ...   \n",
       "2023-01-04 T              184.0           3409.0       14271.0   \n",
       "           TSLA          6767.0         540711.0     3810688.0   \n",
       "           TSN             35.0            168.0         460.0   \n",
       "           V              132.0           1008.0        5943.0   \n",
       "           XOM            212.0            374.0        2071.0   \n",
       "\n",
       "                   twitterImpressions  twitterSentiment  engagement_ratio  \n",
       "date       symbol                                                          \n",
       "2021-11-18 AAPL             7981808.0               NaN          0.119590  \n",
       "           AMD              1645270.0               NaN          0.228891  \n",
       "           AMZN             5590695.0               NaN          0.101396  \n",
       "           ATVI             1310715.0               NaN          0.274809  \n",
       "           BA                425847.0               NaN          0.160819  \n",
       "...                               ...               ...               ...  \n",
       "2023-01-04 T                 884935.0          0.590457          0.238876  \n",
       "           TSLA            55464921.0          0.543057          0.141893  \n",
       "           TSN                57207.0          0.561900          0.365217  \n",
       "           V                 139835.0          0.567286          0.169611  \n",
       "           XOM               483389.0          0.588914          0.180589  \n",
       "\n",
       "[25375 rows x 6 columns]"
      ]
     },
     "execution_count": 1,
     "metadata": {},
     "output_type": "execute_result"
    }
   ],
   "source": [
    "import pandas as pd\n",
    "import numpy as np\n",
    "import matplotlib.pyplot as plt\n",
    "import datetime as dt\n",
    "import yfinance as yf\n",
    "import os\n",
    "plt.style.use('ggplot')\n",
    "\n",
    "sentiment_df = pd.read_csv('sentiment_data.csv')\n",
    "\n",
    "sentiment_df['date'] = pd.to_datetime(sentiment_df['date'])\n",
    "\n",
    "sentiment_df = sentiment_df.set_index(['date', 'symbol'])\n",
    "\n",
    "sentiment_df['engagement_ratio'] = sentiment_df['twitterComments'] / \\\n",
    "    sentiment_df['twitterLikes']\n",
    "\n",
    "sentiment_df = sentiment_df[(sentiment_df['twitterLikes'] > 20) & (\n",
    "    sentiment_df['twitterComments'] > 10)]\n",
    "\n",
    "sentiment_df"
   ]
  },
  {
   "cell_type": "markdown",
   "metadata": {},
   "source": [
    "### **2. Aggregate Monthly and calculate average sentiment for the month**\n",
    "\n",
    "* Aggregate on a monthly level and calculate average monthly metric, for the one we choose."
   ]
  },
  {
   "cell_type": "code",
   "execution_count": 2,
   "metadata": {},
   "outputs": [
    {
     "name": "stderr",
     "output_type": "stream",
     "text": [
      "C:\\Users\\Lenovo ThinkPad T440\\AppData\\Local\\Temp\\ipykernel_5460\\3305641687.py:1: FutureWarning: 'M' is deprecated and will be removed in a future version, please use 'ME' instead.\n",
      "  aggragated_df = (sentiment_df.reset_index('symbol').groupby([pd.Grouper(freq='M'), 'symbol'])\n"
     ]
    },
    {
     "data": {
      "application/vnd.microsoft.datawrangler.viewer.v0+json": {
       "columns": [
        {
         "name": "('date', 'symbol')",
         "rawType": "object",
         "type": "unknown"
        },
        {
         "name": "engagement_ratio",
         "rawType": "float64",
         "type": "float"
        },
        {
         "name": "rank",
         "rawType": "float64",
         "type": "float"
        }
       ],
       "conversionMethod": "pd.DataFrame",
       "ref": "e13a36e9-4763-47b2-be8d-3f6707acea1a",
       "rows": [
        [
         "(Timestamp('2021-11-30 00:00:00'), 'AAL')",
         "0.20383456685044507",
         "37.0"
        ],
        [
         "(Timestamp('2021-11-30 00:00:00'), 'AAPL')",
         "0.2563175647048564",
         "23.0"
        ],
        [
         "(Timestamp('2021-11-30 00:00:00'), 'ABBV')",
         "0.24467716574640988",
         "26.0"
        ],
        [
         "(Timestamp('2021-11-30 00:00:00'), 'ABT')",
         "0.3133675235729876",
         "14.0"
        ],
        [
         "(Timestamp('2021-11-30 00:00:00'), 'AES')",
         "0.8646125668797187",
         "2.0"
        ],
        [
         "(Timestamp('2021-11-30 00:00:00'), 'AMD')",
         "0.23243172007762364",
         "27.0"
        ],
        [
         "(Timestamp('2021-11-30 00:00:00'), 'AMZN')",
         "0.26202165570113417",
         "22.0"
        ],
        [
         "(Timestamp('2021-11-30 00:00:00'), 'ATVI')",
         "0.190583946194474",
         "40.0"
        ],
        [
         "(Timestamp('2021-11-30 00:00:00'), 'BA')",
         "0.42116619577952147",
         "8.0"
        ],
        [
         "(Timestamp('2021-11-30 00:00:00'), 'C')",
         "0.26609357305312004",
         "18.0"
        ],
        [
         "(Timestamp('2021-11-30 00:00:00'), 'CMG')",
         "0.3340178151933073",
         "12.0"
        ],
        [
         "(Timestamp('2021-11-30 00:00:00'), 'CRM')",
         "0.22085214600539613",
         "33.0"
        ],
        [
         "(Timestamp('2021-11-30 00:00:00'), 'DAL')",
         "0.6188963099903901",
         "6.0"
        ],
        [
         "(Timestamp('2021-11-30 00:00:00'), 'DIS')",
         "0.16743603647489672",
         "44.0"
        ],
        [
         "(Timestamp('2021-11-30 00:00:00'), 'EA')",
         "0.2623012419798228",
         "21.0"
        ],
        [
         "(Timestamp('2021-11-30 00:00:00'), 'EBAY')",
         "0.24862493778078704",
         "25.0"
        ],
        [
         "(Timestamp('2021-11-30 00:00:00'), 'EL')",
         "0.20270270270270271",
         "38.0"
        ],
        [
         "(Timestamp('2021-11-30 00:00:00'), 'ES')",
         "0.21895883429790328",
         "34.0"
        ],
        [
         "(Timestamp('2021-11-30 00:00:00'), 'F')",
         "0.15291578883693074",
         "45.0"
        ],
        [
         "(Timestamp('2021-11-30 00:00:00'), 'FCX')",
         "0.626322992442686",
         "5.0"
        ],
        [
         "(Timestamp('2021-11-30 00:00:00'), 'GILD')",
         "0.10175438596491228",
         "51.0"
        ],
        [
         "(Timestamp('2021-11-30 00:00:00'), 'GOOG')",
         "0.22579670177728886",
         "30.0"
        ],
        [
         "(Timestamp('2021-11-30 00:00:00'), 'GOOGL')",
         "0.21858336043516366",
         "35.0"
        ],
        [
         "(Timestamp('2021-11-30 00:00:00'), 'GS')",
         "0.3768715997894702",
         "10.0"
        ],
        [
         "(Timestamp('2021-11-30 00:00:00'), 'J')",
         "0.45491598735651306",
         "7.0"
        ],
        [
         "(Timestamp('2021-11-30 00:00:00'), 'JPM')",
         "0.3022465417996511",
         "16.0"
        ],
        [
         "(Timestamp('2021-11-30 00:00:00'), 'K')",
         "0.2755931101722457",
         "17.0"
        ],
        [
         "(Timestamp('2021-11-30 00:00:00'), 'KEY')",
         "0.22217246146930045",
         "32.0"
        ],
        [
         "(Timestamp('2021-11-30 00:00:00'), 'KO')",
         "0.23097837185086192",
         "28.0"
        ],
        [
         "(Timestamp('2021-11-30 00:00:00'), 'LUV')",
         "0.2299349240780911",
         "29.0"
        ],
        [
         "(Timestamp('2021-11-30 00:00:00'), 'MA')",
         "0.18606600303028417",
         "41.0"
        ],
        [
         "(Timestamp('2021-11-30 00:00:00'), 'META')",
         "0.19934652559198732",
         "39.0"
        ],
        [
         "(Timestamp('2021-11-30 00:00:00'), 'MNST')",
         "0.6997208537425733",
         "3.0"
        ],
        [
         "(Timestamp('2021-11-30 00:00:00'), 'MO')",
         "0.32663239703751",
         "13.0"
        ],
        [
         "(Timestamp('2021-11-30 00:00:00'), 'MSFT')",
         "0.22509645684197893",
         "31.0"
        ],
        [
         "(Timestamp('2021-11-30 00:00:00'), 'MU')",
         "0.14051563297135913",
         "48.0"
        ],
        [
         "(Timestamp('2021-11-30 00:00:00'), 'NFLX')",
         "0.3406675165639268",
         "11.0"
        ],
        [
         "(Timestamp('2021-11-30 00:00:00'), 'NKE')",
         "0.2147645355171196",
         "36.0"
        ],
        [
         "(Timestamp('2021-11-30 00:00:00'), 'NVDA')",
         "0.14098785832438404",
         "47.0"
        ],
        [
         "(Timestamp('2021-11-30 00:00:00'), 'OXY')",
         "2.147740813235726",
         "1.0"
        ],
        [
         "(Timestamp('2021-11-30 00:00:00'), 'PEP')",
         "0.10740170729721167",
         "50.0"
        ],
        [
         "(Timestamp('2021-11-30 00:00:00'), 'PFE')",
         "0.25297712896236696",
         "24.0"
        ],
        [
         "(Timestamp('2021-11-30 00:00:00'), 'PG')",
         "0.17475289352435658",
         "43.0"
        ],
        [
         "(Timestamp('2021-11-30 00:00:00'), 'PM')",
         "0.18122605363984673",
         "42.0"
        ],
        [
         "(Timestamp('2021-11-30 00:00:00'), 'REGN')",
         "0.4157468727005151",
         "9.0"
        ],
        [
         "(Timestamp('2021-11-30 00:00:00'), 'SLB')",
         "0.6473744804327488",
         "4.0"
        ],
        [
         "(Timestamp('2021-11-30 00:00:00'), 'STZ')",
         "0.26339285714285715",
         "20.0"
        ],
        [
         "(Timestamp('2021-11-30 00:00:00'), 'T')",
         "0.3132520254143205",
         "15.0"
        ],
        [
         "(Timestamp('2021-11-30 00:00:00'), 'TSLA')",
         "0.10841691609304023",
         "49.0"
        ],
        [
         "(Timestamp('2021-11-30 00:00:00'), 'TSN')",
         "0.26515151515151514",
         "19.0"
        ]
       ],
       "shape": {
        "columns": 2,
        "rows": 1109
       }
      },
      "text/html": [
       "<div>\n",
       "<style scoped>\n",
       "    .dataframe tbody tr th:only-of-type {\n",
       "        vertical-align: middle;\n",
       "    }\n",
       "\n",
       "    .dataframe tbody tr th {\n",
       "        vertical-align: top;\n",
       "    }\n",
       "\n",
       "    .dataframe thead th {\n",
       "        text-align: right;\n",
       "    }\n",
       "</style>\n",
       "<table border=\"1\" class=\"dataframe\">\n",
       "  <thead>\n",
       "    <tr style=\"text-align: right;\">\n",
       "      <th></th>\n",
       "      <th></th>\n",
       "      <th>engagement_ratio</th>\n",
       "      <th>rank</th>\n",
       "    </tr>\n",
       "    <tr>\n",
       "      <th>date</th>\n",
       "      <th>symbol</th>\n",
       "      <th></th>\n",
       "      <th></th>\n",
       "    </tr>\n",
       "  </thead>\n",
       "  <tbody>\n",
       "    <tr>\n",
       "      <th rowspan=\"5\" valign=\"top\">2021-11-30</th>\n",
       "      <th>AAL</th>\n",
       "      <td>0.203835</td>\n",
       "      <td>37.0</td>\n",
       "    </tr>\n",
       "    <tr>\n",
       "      <th>AAPL</th>\n",
       "      <td>0.256318</td>\n",
       "      <td>23.0</td>\n",
       "    </tr>\n",
       "    <tr>\n",
       "      <th>ABBV</th>\n",
       "      <td>0.244677</td>\n",
       "      <td>26.0</td>\n",
       "    </tr>\n",
       "    <tr>\n",
       "      <th>ABT</th>\n",
       "      <td>0.313368</td>\n",
       "      <td>14.0</td>\n",
       "    </tr>\n",
       "    <tr>\n",
       "      <th>AES</th>\n",
       "      <td>0.864613</td>\n",
       "      <td>2.0</td>\n",
       "    </tr>\n",
       "    <tr>\n",
       "      <th>...</th>\n",
       "      <th>...</th>\n",
       "      <td>...</td>\n",
       "      <td>...</td>\n",
       "    </tr>\n",
       "    <tr>\n",
       "      <th rowspan=\"5\" valign=\"top\">2023-01-31</th>\n",
       "      <th>TMO</th>\n",
       "      <td>0.333313</td>\n",
       "      <td>19.0</td>\n",
       "    </tr>\n",
       "    <tr>\n",
       "      <th>TSLA</th>\n",
       "      <td>0.151992</td>\n",
       "      <td>72.0</td>\n",
       "    </tr>\n",
       "    <tr>\n",
       "      <th>TSN</th>\n",
       "      <td>0.280553</td>\n",
       "      <td>30.0</td>\n",
       "    </tr>\n",
       "    <tr>\n",
       "      <th>V</th>\n",
       "      <td>0.194045</td>\n",
       "      <td>60.0</td>\n",
       "    </tr>\n",
       "    <tr>\n",
       "      <th>XOM</th>\n",
       "      <td>0.217904</td>\n",
       "      <td>53.0</td>\n",
       "    </tr>\n",
       "  </tbody>\n",
       "</table>\n",
       "<p>1109 rows × 2 columns</p>\n",
       "</div>"
      ],
      "text/plain": [
       "                   engagement_ratio  rank\n",
       "date       symbol                        \n",
       "2021-11-30 AAL             0.203835  37.0\n",
       "           AAPL            0.256318  23.0\n",
       "           ABBV            0.244677  26.0\n",
       "           ABT             0.313368  14.0\n",
       "           AES             0.864613   2.0\n",
       "...                             ...   ...\n",
       "2023-01-31 TMO             0.333313  19.0\n",
       "           TSLA            0.151992  72.0\n",
       "           TSN             0.280553  30.0\n",
       "           V               0.194045  60.0\n",
       "           XOM             0.217904  53.0\n",
       "\n",
       "[1109 rows x 2 columns]"
      ]
     },
     "execution_count": 2,
     "metadata": {},
     "output_type": "execute_result"
    }
   ],
   "source": [
    "aggragated_df = (sentiment_df.reset_index('symbol').groupby([pd.Grouper(freq='M'), 'symbol'])\n",
    "                 [['engagement_ratio']].mean())\n",
    "\n",
    "aggragated_df['rank'] = (aggragated_df.groupby(level=0)['engagement_ratio']\n",
    "                         .transform(lambda x: x.rank(ascending=False)))\n",
    "\n",
    "aggragated_df"
   ]
  },
  {
   "cell_type": "markdown",
   "metadata": {},
   "source": [
    "### **3. Select Top 5 Stocks based on their cross-sectional ranking for each month**\n",
    "\n",
    "* Select top 5 stocks by rank for each month and fix the date to start at beginning of next month."
   ]
  },
  {
   "cell_type": "code",
   "execution_count": 3,
   "metadata": {},
   "outputs": [
    {
     "data": {
      "application/vnd.microsoft.datawrangler.viewer.v0+json": {
       "columns": [
        {
         "name": "('date', 'symbol')",
         "rawType": "object",
         "type": "unknown"
        },
        {
         "name": "engagement_ratio",
         "rawType": "float64",
         "type": "float"
        },
        {
         "name": "rank",
         "rawType": "float64",
         "type": "float"
        }
       ],
       "conversionMethod": "pd.DataFrame",
       "ref": "62a76044-e397-49f2-b590-1103b834c6c3",
       "rows": [
        [
         "(Timestamp('2021-12-01 00:00:00'), 'AES')",
         "0.8646125668797187",
         "2.0"
        ],
        [
         "(Timestamp('2021-12-01 00:00:00'), 'FCX')",
         "0.626322992442686",
         "5.0"
        ],
        [
         "(Timestamp('2021-12-01 00:00:00'), 'MNST')",
         "0.6997208537425733",
         "3.0"
        ],
        [
         "(Timestamp('2021-12-01 00:00:00'), 'OXY')",
         "2.147740813235726",
         "1.0"
        ],
        [
         "(Timestamp('2021-12-01 00:00:00'), 'SLB')",
         "0.6473744804327488",
         "4.0"
        ],
        [
         "(Timestamp('2022-01-01 00:00:00'), 'D')",
         "0.801994301994302",
         "5.0"
        ],
        [
         "(Timestamp('2022-01-01 00:00:00'), 'FCX')",
         "0.8412204904785485",
         "4.0"
        ],
        [
         "(Timestamp('2022-01-01 00:00:00'), 'L')",
         "6.507246376811594",
         "1.0"
        ],
        [
         "(Timestamp('2022-01-01 00:00:00'), 'LUV')",
         "1.3032150617373957",
         "2.0"
        ],
        [
         "(Timestamp('2022-01-01 00:00:00'), 'MA')",
         "0.8834005377558216",
         "3.0"
        ],
        [
         "(Timestamp('2022-02-01 00:00:00'), 'AMD')",
         "0.7155556764354999",
         "4.0"
        ],
        [
         "(Timestamp('2022-02-01 00:00:00'), 'D')",
         "1.1366783827725544",
         "1.0"
        ],
        [
         "(Timestamp('2022-02-01 00:00:00'), 'FCX')",
         "0.6552365882726817",
         "5.0"
        ],
        [
         "(Timestamp('2022-02-01 00:00:00'), 'LUV')",
         "1.0352577473239168",
         "2.0"
        ],
        [
         "(Timestamp('2022-02-01 00:00:00'), 'MA')",
         "0.729062922392157",
         "3.0"
        ],
        [
         "(Timestamp('2022-03-01 00:00:00'), 'FCX')",
         "1.1383321537291695",
         "2.0"
        ],
        [
         "(Timestamp('2022-03-01 00:00:00'), 'GILD')",
         "0.5308860767822751",
         "5.0"
        ],
        [
         "(Timestamp('2022-03-01 00:00:00'), 'LUV')",
         "1.5743768373882887",
         "1.0"
        ],
        [
         "(Timestamp('2022-03-01 00:00:00'), 'MRO')",
         "0.5817478739266762",
         "4.0"
        ],
        [
         "(Timestamp('2022-03-01 00:00:00'), 'OXY')",
         "1.0255785342458477",
         "3.0"
        ]
       ],
       "shape": {
        "columns": 2,
        "rows": 20
       }
      },
      "text/html": [
       "<div>\n",
       "<style scoped>\n",
       "    .dataframe tbody tr th:only-of-type {\n",
       "        vertical-align: middle;\n",
       "    }\n",
       "\n",
       "    .dataframe tbody tr th {\n",
       "        vertical-align: top;\n",
       "    }\n",
       "\n",
       "    .dataframe thead th {\n",
       "        text-align: right;\n",
       "    }\n",
       "</style>\n",
       "<table border=\"1\" class=\"dataframe\">\n",
       "  <thead>\n",
       "    <tr style=\"text-align: right;\">\n",
       "      <th></th>\n",
       "      <th></th>\n",
       "      <th>engagement_ratio</th>\n",
       "      <th>rank</th>\n",
       "    </tr>\n",
       "    <tr>\n",
       "      <th>date</th>\n",
       "      <th>symbol</th>\n",
       "      <th></th>\n",
       "      <th></th>\n",
       "    </tr>\n",
       "  </thead>\n",
       "  <tbody>\n",
       "    <tr>\n",
       "      <th rowspan=\"5\" valign=\"top\">2021-12-01</th>\n",
       "      <th>AES</th>\n",
       "      <td>0.864613</td>\n",
       "      <td>2.0</td>\n",
       "    </tr>\n",
       "    <tr>\n",
       "      <th>FCX</th>\n",
       "      <td>0.626323</td>\n",
       "      <td>5.0</td>\n",
       "    </tr>\n",
       "    <tr>\n",
       "      <th>MNST</th>\n",
       "      <td>0.699721</td>\n",
       "      <td>3.0</td>\n",
       "    </tr>\n",
       "    <tr>\n",
       "      <th>OXY</th>\n",
       "      <td>2.147741</td>\n",
       "      <td>1.0</td>\n",
       "    </tr>\n",
       "    <tr>\n",
       "      <th>SLB</th>\n",
       "      <td>0.647374</td>\n",
       "      <td>4.0</td>\n",
       "    </tr>\n",
       "    <tr>\n",
       "      <th rowspan=\"5\" valign=\"top\">2022-01-01</th>\n",
       "      <th>D</th>\n",
       "      <td>0.801994</td>\n",
       "      <td>5.0</td>\n",
       "    </tr>\n",
       "    <tr>\n",
       "      <th>FCX</th>\n",
       "      <td>0.841220</td>\n",
       "      <td>4.0</td>\n",
       "    </tr>\n",
       "    <tr>\n",
       "      <th>L</th>\n",
       "      <td>6.507246</td>\n",
       "      <td>1.0</td>\n",
       "    </tr>\n",
       "    <tr>\n",
       "      <th>LUV</th>\n",
       "      <td>1.303215</td>\n",
       "      <td>2.0</td>\n",
       "    </tr>\n",
       "    <tr>\n",
       "      <th>MA</th>\n",
       "      <td>0.883401</td>\n",
       "      <td>3.0</td>\n",
       "    </tr>\n",
       "    <tr>\n",
       "      <th rowspan=\"5\" valign=\"top\">2022-02-01</th>\n",
       "      <th>AMD</th>\n",
       "      <td>0.715556</td>\n",
       "      <td>4.0</td>\n",
       "    </tr>\n",
       "    <tr>\n",
       "      <th>D</th>\n",
       "      <td>1.136678</td>\n",
       "      <td>1.0</td>\n",
       "    </tr>\n",
       "    <tr>\n",
       "      <th>FCX</th>\n",
       "      <td>0.655237</td>\n",
       "      <td>5.0</td>\n",
       "    </tr>\n",
       "    <tr>\n",
       "      <th>LUV</th>\n",
       "      <td>1.035258</td>\n",
       "      <td>2.0</td>\n",
       "    </tr>\n",
       "    <tr>\n",
       "      <th>MA</th>\n",
       "      <td>0.729063</td>\n",
       "      <td>3.0</td>\n",
       "    </tr>\n",
       "    <tr>\n",
       "      <th rowspan=\"5\" valign=\"top\">2022-03-01</th>\n",
       "      <th>FCX</th>\n",
       "      <td>1.138332</td>\n",
       "      <td>2.0</td>\n",
       "    </tr>\n",
       "    <tr>\n",
       "      <th>GILD</th>\n",
       "      <td>0.530886</td>\n",
       "      <td>5.0</td>\n",
       "    </tr>\n",
       "    <tr>\n",
       "      <th>LUV</th>\n",
       "      <td>1.574377</td>\n",
       "      <td>1.0</td>\n",
       "    </tr>\n",
       "    <tr>\n",
       "      <th>MRO</th>\n",
       "      <td>0.581748</td>\n",
       "      <td>4.0</td>\n",
       "    </tr>\n",
       "    <tr>\n",
       "      <th>OXY</th>\n",
       "      <td>1.025579</td>\n",
       "      <td>3.0</td>\n",
       "    </tr>\n",
       "  </tbody>\n",
       "</table>\n",
       "</div>"
      ],
      "text/plain": [
       "                   engagement_ratio  rank\n",
       "date       symbol                        \n",
       "2021-12-01 AES             0.864613   2.0\n",
       "           FCX             0.626323   5.0\n",
       "           MNST            0.699721   3.0\n",
       "           OXY             2.147741   1.0\n",
       "           SLB             0.647374   4.0\n",
       "2022-01-01 D               0.801994   5.0\n",
       "           FCX             0.841220   4.0\n",
       "           L               6.507246   1.0\n",
       "           LUV             1.303215   2.0\n",
       "           MA              0.883401   3.0\n",
       "2022-02-01 AMD             0.715556   4.0\n",
       "           D               1.136678   1.0\n",
       "           FCX             0.655237   5.0\n",
       "           LUV             1.035258   2.0\n",
       "           MA              0.729063   3.0\n",
       "2022-03-01 FCX             1.138332   2.0\n",
       "           GILD            0.530886   5.0\n",
       "           LUV             1.574377   1.0\n",
       "           MRO             0.581748   4.0\n",
       "           OXY             1.025579   3.0"
      ]
     },
     "execution_count": 3,
     "metadata": {},
     "output_type": "execute_result"
    }
   ],
   "source": [
    "filtered_df = aggragated_df[aggragated_df['rank'] < 6].copy()\n",
    "\n",
    "filtered_df = filtered_df.reset_index(level=1)\n",
    "\n",
    "filtered_df.index = filtered_df.index+pd.DateOffset(1)\n",
    "\n",
    "filtered_df = filtered_df.reset_index().set_index(['date', 'symbol'])\n",
    "\n",
    "filtered_df.head(20)"
   ]
  },
  {
   "cell_type": "markdown",
   "metadata": {},
   "source": [
    "### **4. Extract the stocks to form portfolios with at the start of each new month**\n",
    "\n",
    "* Create a dictionary containing start of month and corresponded selected stocks."
   ]
  },
  {
   "cell_type": "code",
   "execution_count": 4,
   "metadata": {},
   "outputs": [
    {
     "data": {
      "text/plain": [
       "{'2021-12-01': ['AES', 'FCX', 'MNST', 'OXY', 'SLB'],\n",
       " '2022-01-01': ['D', 'FCX', 'L', 'LUV', 'MA'],\n",
       " '2022-02-01': ['AMD', 'D', 'FCX', 'LUV', 'MA'],\n",
       " '2022-03-01': ['FCX', 'GILD', 'LUV', 'MRO', 'OXY'],\n",
       " '2022-04-01': ['A', 'CRM', 'PFE', 'PM', 'STZ'],\n",
       " '2022-05-01': ['AMD', 'CRM', 'CVX', 'J', 'KEY'],\n",
       " '2022-06-01': ['AMD', 'DD', 'FCX', 'KEY', 'LMT'],\n",
       " '2022-07-01': ['CB', 'CRM', 'DD', 'FCX', 'STZ'],\n",
       " '2022-08-01': ['A', 'DD', 'JPM', 'REGN', 'STZ'],\n",
       " '2022-09-01': ['ABT', 'DIS', 'L', 'META', 'MRNA'],\n",
       " '2022-10-01': ['J', 'KEY', 'L', 'META', 'MU'],\n",
       " '2022-11-01': ['A', 'DD', 'FCX', 'J', 'META'],\n",
       " '2022-12-01': ['AEP', 'AES', 'DD', 'J', 'STZ'],\n",
       " '2023-01-01': ['A', 'AES', 'DAL', 'J', 'KEY'],\n",
       " '2023-02-01': ['A', 'AES', 'BIIB', 'FCX', 'MDT']}"
      ]
     },
     "execution_count": 4,
     "metadata": {},
     "output_type": "execute_result"
    }
   ],
   "source": [
    "dates = filtered_df.index.get_level_values('date').unique().tolist()\n",
    "\n",
    "fixed_dates = {}\n",
    "\n",
    "for d in dates:\n",
    "\n",
    "    fixed_dates[d.strftime('%Y-%m-%d')] = filtered_df.xs(d,\n",
    "                                                         level=0).index.tolist()\n",
    "\n",
    "fixed_dates"
   ]
  },
  {
   "cell_type": "markdown",
   "metadata": {},
   "source": [
    "### **5. Download fresh stock prices for only selected/shortlisted stocks**"
   ]
  },
  {
   "cell_type": "code",
   "execution_count": 5,
   "metadata": {},
   "outputs": [
    {
     "name": "stderr",
     "output_type": "stream",
     "text": [
      "Failed to get ticker 'ENPH' reason: Expecting value: line 1 column 1 (char 0)\n",
      "Failed to get ticker 'AES' reason: Expecting value: line 1 column 1 (char 0)\n",
      "Failed to get ticker 'MRO' reason: Expecting value: line 1 column 1 (char 0)\n",
      "[**                     4%                       ]  3 of 85 completedFailed to get ticker 'REGN' reason: Expecting value: line 1 column 1 (char 0)\n",
      "Failed to get ticker 'BMY' reason: Expecting value: line 1 column 1 (char 0)\n",
      "[**                     5%                       ]  4 of 85 completedFailed to get ticker 'PEP' reason: Expecting value: line 1 column 1 (char 0)\n",
      "Failed to get ticker 'RCL' reason: Expecting value: line 1 column 1 (char 0)\n",
      "[****                   8%                       ]  7 of 85 completedFailed to get ticker 'META' reason: Expecting value: line 1 column 1 (char 0)\n",
      "Failed to get ticker 'MRNA' reason: Expecting value: line 1 column 1 (char 0)\n",
      "[*****                 11%                       ]  9 of 85 completedFailed to get ticker 'PG' reason: Expecting value: line 1 column 1 (char 0)\n",
      "Failed to get ticker 'GS' reason: Expecting value: line 1 column 1 (char 0)\n",
      "[*******               14%                       ]  12 of 85 completedFailed to get ticker 'CVX' reason: Expecting value: line 1 column 1 (char 0)\n",
      "Failed to get ticker 'DG' reason: Expecting value: line 1 column 1 (char 0)\n",
      "[*******               15%                       ]  13 of 85 completedFailed to get ticker 'ABT' reason: Expecting value: line 1 column 1 (char 0)\n",
      "[********              16%                       ]  14 of 85 completedFailed to get ticker 'ILMN' reason: Expecting value: line 1 column 1 (char 0)\n",
      "Failed to get ticker 'EL' reason: Expecting value: line 1 column 1 (char 0)\n",
      "[**********            20%                       ]  17 of 85 completedFailed to get ticker 'T' reason: Expecting value: line 1 column 1 (char 0)\n",
      "Failed to get ticker 'ES' reason: Expecting value: line 1 column 1 (char 0)\n",
      "[***********           22%                       ]  19 of 85 completedFailed to get ticker 'HON' reason: Expecting value: line 1 column 1 (char 0)\n",
      "[************          24%                       ]  20 of 85 completedFailed to get ticker 'CMG' reason: Expecting value: line 1 column 1 (char 0)\n",
      "Failed to get ticker 'MDT' reason: Expecting value: line 1 column 1 (char 0)\n",
      "[************          25%                       ]  21 of 85 completedFailed to get ticker 'NUE' reason: Expecting value: line 1 column 1 (char 0)\n",
      "[*************         27%                       ]  23 of 85 completedFailed to get ticker 'TSLA' reason: Expecting value: line 1 column 1 (char 0)\n",
      "Failed to get ticker 'NVDA' reason: Expecting value: line 1 column 1 (char 0)\n",
      "[*************         28%                       ]  24 of 85 completedFailed to get ticker 'LMT' reason: Expecting value: line 1 column 1 (char 0)\n",
      "Failed to get ticker 'NCLH' reason: Expecting value: line 1 column 1 (char 0)\n",
      "[***************       31%                       ]  26 of 85 completedFailed to get ticker 'OXY' reason: Expecting value: line 1 column 1 (char 0)\n",
      "[****************      33%                       ]  28 of 85 completedFailed to get ticker 'ALB' reason: Expecting value: line 1 column 1 (char 0)\n",
      "Failed to get ticker 'ABBV' reason: Expecting value: line 1 column 1 (char 0)\n",
      "[*****************     36%                       ]  31 of 85 completedFailed to get ticker 'TSN' reason: Expecting value: line 1 column 1 (char 0)\n",
      "Failed to get ticker 'DD' reason: Expecting value: line 1 column 1 (char 0)\n",
      "[*******************   39%                       ]  33 of 85 completedFailed to get ticker 'MNST' reason: Expecting value: line 1 column 1 (char 0)\n",
      "Failed to get ticker 'JNJ' reason: Expecting value: line 1 column 1 (char 0)\n",
      "[*******************   40%                       ]  34 of 85 completedFailed to get ticker 'CRM' reason: Expecting value: line 1 column 1 (char 0)\n",
      "Failed to get ticker 'GILD' reason: Expecting value: line 1 column 1 (char 0)\n",
      "[********************* 44%                       ]  37 of 85 completedFailed to get ticker 'L' reason: Expecting value: line 1 column 1 (char 0)\n",
      "Failed to get ticker 'DIS' reason: Expecting value: line 1 column 1 (char 0)\n",
      "[**********************46%                       ]  39 of 85 completedFailed to get ticker 'INTC' reason: Expecting value: line 1 column 1 (char 0)\n",
      "[**********************47%                       ]  40 of 85 completedFailed to get ticker 'MA' reason: Expecting value: line 1 column 1 (char 0)\n",
      "Failed to get ticker 'AAL' reason: Expecting value: line 1 column 1 (char 0)\n",
      "Failed to get ticker 'DVN' reason: Expecting value: line 1 column 1 (char 0)\n",
      "[**********************51%                       ]  43 of 85 completedFailed to get ticker 'F' reason: Expecting value: line 1 column 1 (char 0)\n",
      "Failed to get ticker 'C' reason: Expecting value: line 1 column 1 (char 0)\n",
      "Failed to get ticker 'V' reason: Expecting value: line 1 column 1 (char 0)\n",
      "[**********************52%                       ]  44 of 85 completedFailed to get ticker 'CCL' reason: Expecting value: line 1 column 1 (char 0)\n",
      "[**********************53%                       ]  45 of 85 completedFailed to get ticker 'MU' reason: Expecting value: line 1 column 1 (char 0)\n",
      "Failed to get ticker 'SLB' reason: Expecting value: line 1 column 1 (char 0)\n",
      "Failed to get ticker 'PM' reason: Expecting value: line 1 column 1 (char 0)\n",
      "[**********************59%***                    ]  50 of 85 completedFailed to get ticker 'K' reason: Expecting value: line 1 column 1 (char 0)\n",
      "[**********************60%****                   ]  51 of 85 completedFailed to get ticker 'BIIB' reason: Expecting value: line 1 column 1 (char 0)\n",
      "Failed to get ticker 'FCX' reason: Expecting value: line 1 column 1 (char 0)\n",
      "[**********************61%****                   ]  52 of 85 completedFailed to get ticker 'AEP' reason: Expecting value: line 1 column 1 (char 0)\n",
      "Failed to get ticker 'MPC' reason: Expecting value: line 1 column 1 (char 0)\n",
      "[**********************62%*****                  ]  53 of 85 completedFailed to get ticker 'PYPL' reason: Expecting value: line 1 column 1 (char 0)\n",
      "[**********************66%*******                ]  56 of 85 completedFailed to get ticker 'AVGO' reason: Expecting value: line 1 column 1 (char 0)\n",
      "Failed to get ticker 'KEY' reason: Expecting value: line 1 column 1 (char 0)\n",
      "[**********************68%********               ]  58 of 85 completedFailed to get ticker 'EA' reason: Expecting value: line 1 column 1 (char 0)\n",
      "[**********************69%********               ]  59 of 85 completedFailed to get ticker 'BKR' reason: Expecting value: line 1 column 1 (char 0)\n",
      "Failed to get ticker 'EBAY' reason: Expecting value: line 1 column 1 (char 0)\n",
      "Failed to get ticker 'CB' reason: Expecting value: line 1 column 1 (char 0)\n",
      "[**********************73%**********             ]  62 of 85 completedFailed to get ticker 'AMD' reason: Expecting value: line 1 column 1 (char 0)\n",
      "[**********************74%***********            ]  63 of 85 completedFailed to get ticker 'NKE' reason: Expecting value: line 1 column 1 (char 0)\n",
      "Failed to get ticker 'BA' reason: Expecting value: line 1 column 1 (char 0)\n",
      "[**********************75%***********            ]  64 of 85 completedFailed to get ticker 'KO' reason: Expecting value: line 1 column 1 (char 0)\n",
      "[**********************76%***********            ]  65 of 85 completedFailed to get ticker 'PFE' reason: Expecting value: line 1 column 1 (char 0)\n",
      "[**********************79%*************          ]  67 of 85 completedFailed to get ticker 'A' reason: Expecting value: line 1 column 1 (char 0)\n",
      "Failed to get ticker 'HBAN' reason: Expecting value: line 1 column 1 (char 0)\n",
      "Failed to get ticker 'MO' reason: Expecting value: line 1 column 1 (char 0)\n",
      "[**********************80%*************          ]  68 of 85 completedFailed to get ticker 'LUV' reason: Expecting value: line 1 column 1 (char 0)\n",
      "[**********************84%***************        ]  71 of 85 completedFailed to get ticker 'J' reason: Expecting value: line 1 column 1 (char 0)\n",
      "[**********************86%****************       ]  73 of 85 completedFailed to get ticker 'D' reason: Expecting value: line 1 column 1 (char 0)\n",
      "Failed to get ticker 'XOM' reason: Expecting value: line 1 column 1 (char 0)\n",
      "[**********************88%*****************      ]  75 of 85 completedFailed to get ticker 'DLTR' reason: Expecting value: line 1 column 1 (char 0)\n",
      "Failed to get ticker 'STZ' reason: Expecting value: line 1 column 1 (char 0)\n",
      "Failed to get ticker 'NFLX' reason: Expecting value: line 1 column 1 (char 0)\n",
      "[**********************93%********************   ]  79 of 85 completedFailed to get ticker 'ATVI' reason: Expecting value: line 1 column 1 (char 0)\n",
      "Failed to get ticker 'AAP' reason: Expecting value: line 1 column 1 (char 0)\n",
      "Failed to get ticker 'JPM' reason: Expecting value: line 1 column 1 (char 0)\n",
      "[**********************94%********************   ]  80 of 85 completedFailed to get ticker 'TMO' reason: Expecting value: line 1 column 1 (char 0)\n",
      "[**********************98%********************** ]  83 of 85 completedFailed to get ticker 'DAL' reason: Expecting value: line 1 column 1 (char 0)\n",
      "[*********************100%***********************]  85 of 85 completed\n",
      "\n",
      "85 Failed downloads:\n",
      "['GOOG', 'GOOGL', 'AAPL', 'AMZN', 'MSFT']: JSONDecodeError('Expecting value: line 1 column 1 (char 0)')\n",
      "['ENPH', 'AES', 'MRO', 'REGN', 'BMY', 'PEP', 'RCL', 'META', 'MRNA', 'PG', 'GS', 'CVX', 'DG', 'ABT', 'ILMN', 'EL', 'ES', 'HON', 'CMG', 'MDT', 'NUE', 'TSLA', 'NVDA', 'LMT', 'NCLH', 'OXY', 'ALB', 'ABBV', 'TSN', 'DD', 'MNST', 'JNJ', 'CRM', 'GILD', 'L', 'DIS', 'INTC', 'MA', 'AAL', 'DVN', 'C', 'V', 'CCL', 'MU', 'SLB', 'PM', 'K', 'BIIB', 'FCX', 'AEP', 'MPC', 'PYPL', 'AVGO', 'KEY', 'EA', 'BKR', 'EBAY', 'CB', 'AMD', 'NKE', 'BA', 'KO', 'PFE', 'A', 'HBAN', 'MO', 'LUV', 'J', 'D', 'XOM', 'DLTR', 'STZ', 'NFLX', 'ATVI', 'AAP', 'JPM', 'TMO', 'DAL']: YFTzMissingError('$%ticker%: possibly delisted; no timezone found')\n",
      "['T']: YF%ticker%zMissingError('$%ticker%: possibly delisted; no timezone found')\n",
      "['F']: Y%ticker%TzMissingError('$%ticker%: possibly delisted; no timezone found')\n"
     ]
    }
   ],
   "source": [
    "stocks_list = sentiment_df.index.get_level_values('symbol').unique().tolist()\n",
    "\n",
    "prices_df = yf.download(tickers=stocks_list,\n",
    "                        start='2021-01-01',\n",
    "                        end='2023-03-01')"
   ]
  },
  {
   "cell_type": "markdown",
   "metadata": {},
   "source": [
    "### **6. Calculate Portfolio Returns with monthly rebalancing**"
   ]
  },
  {
   "cell_type": "code",
   "execution_count": 6,
   "metadata": {},
   "outputs": [
    {
     "data": {
      "application/vnd.microsoft.datawrangler.viewer.v0+json": {
       "columns": [
        {
         "name": "Date",
         "rawType": "datetime64[ns, UTC]",
         "type": "unknown"
        },
        {
         "name": "portfolio_return",
         "rawType": "float64",
         "type": "float"
        }
       ],
       "conversionMethod": "pd.DataFrame",
       "ref": "046bf8e3-975c-4ed2-9503-079dc30b7451",
       "rows": [],
       "shape": {
        "columns": 1,
        "rows": 0
       }
      },
      "text/html": [
       "<div>\n",
       "<style scoped>\n",
       "    .dataframe tbody tr th:only-of-type {\n",
       "        vertical-align: middle;\n",
       "    }\n",
       "\n",
       "    .dataframe tbody tr th {\n",
       "        vertical-align: top;\n",
       "    }\n",
       "\n",
       "    .dataframe thead th {\n",
       "        text-align: right;\n",
       "    }\n",
       "</style>\n",
       "<table border=\"1\" class=\"dataframe\">\n",
       "  <thead>\n",
       "    <tr style=\"text-align: right;\">\n",
       "      <th></th>\n",
       "      <th>portfolio_return</th>\n",
       "    </tr>\n",
       "    <tr>\n",
       "      <th>Date</th>\n",
       "      <th></th>\n",
       "    </tr>\n",
       "  </thead>\n",
       "  <tbody>\n",
       "  </tbody>\n",
       "</table>\n",
       "</div>"
      ],
      "text/plain": [
       "Empty DataFrame\n",
       "Columns: [portfolio_return]\n",
       "Index: []"
      ]
     },
     "execution_count": 6,
     "metadata": {},
     "output_type": "execute_result"
    }
   ],
   "source": [
    "returns_df = np.log(prices_df['Adj Close']).diff().dropna()\n",
    "\n",
    "portfolio_df = pd.DataFrame()\n",
    "\n",
    "for start_date in fixed_dates.keys():\n",
    "\n",
    "    end_date = (pd.to_datetime(start_date) +\n",
    "                pd.offsets.MonthEnd()).strftime('%Y-%m-%d')\n",
    "\n",
    "    cols = fixed_dates[start_date]\n",
    "\n",
    "    temp_df = returns_df[start_date:end_date][cols].mean(\n",
    "        axis=1).to_frame('portfolio_return')\n",
    "\n",
    "    portfolio_df = pd.concat([portfolio_df, temp_df], axis=0)\n",
    "\n",
    "portfolio_df"
   ]
  },
  {
   "cell_type": "markdown",
   "metadata": {},
   "source": [
    "### **7. Download NASDAQ/QQQ prices and calculate returns to compare to our strategy**"
   ]
  },
  {
   "cell_type": "code",
   "execution_count": 7,
   "metadata": {},
   "outputs": [
    {
     "name": "stderr",
     "output_type": "stream",
     "text": [
      "Failed to get ticker 'QQQ' reason: Expecting value: line 1 column 1 (char 0)\n",
      "[*********************100%***********************]  1 of 1 completed\n",
      "\n",
      "1 Failed download:\n",
      "['QQQ']: YFTzMissingError('$%ticker%: possibly delisted; no timezone found')\n"
     ]
    },
    {
     "data": {
      "application/vnd.microsoft.datawrangler.viewer.v0+json": {
       "columns": [
        {
         "name": "Date",
         "rawType": "datetime64[ns, UTC]",
         "type": "unknown"
        },
        {
         "name": "portfolio_return",
         "rawType": "float64",
         "type": "float"
        },
        {
         "name": "nasdaq_return",
         "rawType": "float64",
         "type": "float"
        }
       ],
       "conversionMethod": "pd.DataFrame",
       "ref": "c6e9330d-d085-4ac5-902b-0b5d13aa24c3",
       "rows": [],
       "shape": {
        "columns": 2,
        "rows": 0
       }
      },
      "text/html": [
       "<div>\n",
       "<style scoped>\n",
       "    .dataframe tbody tr th:only-of-type {\n",
       "        vertical-align: middle;\n",
       "    }\n",
       "\n",
       "    .dataframe tbody tr th {\n",
       "        vertical-align: top;\n",
       "    }\n",
       "\n",
       "    .dataframe thead th {\n",
       "        text-align: right;\n",
       "    }\n",
       "</style>\n",
       "<table border=\"1\" class=\"dataframe\">\n",
       "  <thead>\n",
       "    <tr style=\"text-align: right;\">\n",
       "      <th></th>\n",
       "      <th>portfolio_return</th>\n",
       "      <th>nasdaq_return</th>\n",
       "    </tr>\n",
       "    <tr>\n",
       "      <th>Date</th>\n",
       "      <th></th>\n",
       "      <th></th>\n",
       "    </tr>\n",
       "  </thead>\n",
       "  <tbody>\n",
       "  </tbody>\n",
       "</table>\n",
       "</div>"
      ],
      "text/plain": [
       "Empty DataFrame\n",
       "Columns: [portfolio_return, nasdaq_return]\n",
       "Index: []"
      ]
     },
     "execution_count": 7,
     "metadata": {},
     "output_type": "execute_result"
    }
   ],
   "source": [
    "qqq_df = yf.download(tickers='QQQ',\n",
    "                     start='2021-01-01',\n",
    "                     end='2023-03-01')\n",
    "\n",
    "qqq_ret = pd.DataFrame(\n",
    "    np.log(qqq_df['Adj Close']).diff(), columns=['nasdaq_return'])\n",
    "\n",
    "portfolio_df = portfolio_df.merge(qqq_ret,\n",
    "                                  left_index=True,\n",
    "                                  right_index=True)\n",
    "\n",
    "portfolio_df"
   ]
  },
  {
   "cell_type": "code",
   "execution_count": null,
   "metadata": {},
   "outputs": [
    {
     "ename": "NameError",
     "evalue": "name 'mtick' is not defined",
     "output_type": "error",
     "traceback": [
      "\u001b[1;31m---------------------------------------------------------------------------\u001b[0m",
      "\u001b[1;31mNameError\u001b[0m                                 Traceback (most recent call last)",
      "Cell \u001b[1;32mIn[8], line 7\u001b[0m\n\u001b[0;32m      3\u001b[0m portfolios_cumulative_return\u001b[38;5;241m.\u001b[39mplot(figsize\u001b[38;5;241m=\u001b[39m(\u001b[38;5;241m16\u001b[39m,\u001b[38;5;241m6\u001b[39m))\n\u001b[0;32m      5\u001b[0m plt\u001b[38;5;241m.\u001b[39mtitle(\u001b[38;5;124m'\u001b[39m\u001b[38;5;124mTwitter Engagement Ratio Strategy Return Over Time\u001b[39m\u001b[38;5;124m'\u001b[39m)\n\u001b[1;32m----> 7\u001b[0m plt\u001b[38;5;241m.\u001b[39mgca()\u001b[38;5;241m.\u001b[39myaxis\u001b[38;5;241m.\u001b[39mset_major_formatter(\u001b[43mmtick\u001b[49m\u001b[38;5;241m.\u001b[39mPercentFormatter(\u001b[38;5;241m1\u001b[39m))\n\u001b[0;32m      9\u001b[0m plt\u001b[38;5;241m.\u001b[39mylabel(\u001b[38;5;124m'\u001b[39m\u001b[38;5;124mReturn\u001b[39m\u001b[38;5;124m'\u001b[39m)\n\u001b[0;32m     11\u001b[0m plt\u001b[38;5;241m.\u001b[39mshow()\n",
      "\u001b[1;31mNameError\u001b[0m: name 'mtick' is not defined"
     ]
    },
    {
     "data": {
      "image/png": "[encoded data removed]",
      "text/plain": [
       "<Figure size 1600x600 with 1 Axes>"
      ]
     },
     "metadata": {},
     "output_type": "display_data"
    }
   ],
   "source": [
    "portfolios_cumulative_return = np.exp(np.log1p(portfolio_df).cumsum()).sub(1)\n",
    "\n",
    "portfolios_cumulative_return.plot(figsize=(16, 6))\n",
    "\n",
    "plt.title('Twitter Engagement Ratio Strategy Return Over Time')\n",
    "\n",
    "plt.gca().yaxis.set_major_formatter(mtick.PercentFormatter(1))\n",
    "\n",
    "plt.ylabel('Return')\n",
    "\n",
    "plt.show()"
   ]
  }
 ],
 "metadata": {
  "kernelspec": {
   "display_name": "Python 3",
   "language": "python",
   "name": "python3"
  },
  "language_info": {
   "codemirror_mode": {
    "name": "ipython",
    "version": 3
   },
   "file_extension": ".py",
   "mimetype": "text/x-python",
   "name": "python",
   "nbconvert_exporter": "python",
   "pygments_lexer": "ipython3",
   "version": "3.11.0"
  }
 },
 "nbformat": 4,
 "nbformat_minor": 2
}
